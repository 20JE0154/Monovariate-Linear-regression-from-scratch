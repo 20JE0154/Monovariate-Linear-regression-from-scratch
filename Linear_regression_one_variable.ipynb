{
  "nbformat": 4,
  "nbformat_minor": 0,
  "metadata": {
    "colab": {
      "name": "Linear regression one variable.ipynb",
      "provenance": [],
      "collapsed_sections": []
    },
    "kernelspec": {
      "name": "python3",
      "display_name": "Python 3"
    },
    "language_info": {
      "name": "python"
    }
  },
  "cells": [
    {
      "cell_type": "code",
      "execution_count": null,
      "metadata": {
        "colab": {
          "base_uri": "https://localhost:8080/",
          "height": 206
        },
        "id": "5yVt0dVBUlEn",
        "outputId": "e7e66ded-0d72-44cc-ceb3-a029f2b2c306"
      },
      "outputs": [
        {
          "output_type": "execute_result",
          "data": {
            "text/plain": [
              "   6.1101   17.592\n",
              "0  5.5277   9.1302\n",
              "1  8.5186  13.6620\n",
              "2  7.0032  11.8540\n",
              "3  5.8598   6.8233\n",
              "4  8.3829  11.8860"
            ],
            "text/html": [
              "\n",
              "  <div id=\"df-e7e342cb-193f-4e58-a013-af0b9ffea7f8\">\n",
              "    <div class=\"colab-df-container\">\n",
              "      <div>\n",
              "<style scoped>\n",
              "    .dataframe tbody tr th:only-of-type {\n",
              "        vertical-align: middle;\n",
              "    }\n",
              "\n",
              "    .dataframe tbody tr th {\n",
              "        vertical-align: top;\n",
              "    }\n",
              "\n",
              "    .dataframe thead th {\n",
              "        text-align: right;\n",
              "    }\n",
              "</style>\n",
              "<table border=\"1\" class=\"dataframe\">\n",
              "  <thead>\n",
              "    <tr style=\"text-align: right;\">\n",
              "      <th></th>\n",
              "      <th>6.1101</th>\n",
              "      <th>17.592</th>\n",
              "    </tr>\n",
              "  </thead>\n",
              "  <tbody>\n",
              "    <tr>\n",
              "      <th>0</th>\n",
              "      <td>5.5277</td>\n",
              "      <td>9.1302</td>\n",
              "    </tr>\n",
              "    <tr>\n",
              "      <th>1</th>\n",
              "      <td>8.5186</td>\n",
              "      <td>13.6620</td>\n",
              "    </tr>\n",
              "    <tr>\n",
              "      <th>2</th>\n",
              "      <td>7.0032</td>\n",
              "      <td>11.8540</td>\n",
              "    </tr>\n",
              "    <tr>\n",
              "      <th>3</th>\n",
              "      <td>5.8598</td>\n",
              "      <td>6.8233</td>\n",
              "    </tr>\n",
              "    <tr>\n",
              "      <th>4</th>\n",
              "      <td>8.3829</td>\n",
              "      <td>11.8860</td>\n",
              "    </tr>\n",
              "  </tbody>\n",
              "</table>\n",
              "</div>\n",
              "      <button class=\"colab-df-convert\" onclick=\"convertToInteractive('df-e7e342cb-193f-4e58-a013-af0b9ffea7f8')\"\n",
              "              title=\"Convert this dataframe to an interactive table.\"\n",
              "              style=\"display:none;\">\n",
              "        \n",
              "  <svg xmlns=\"http://www.w3.org/2000/svg\" height=\"24px\"viewBox=\"0 0 24 24\"\n",
              "       width=\"24px\">\n",
              "    <path d=\"M0 0h24v24H0V0z\" fill=\"none\"/>\n",
              "    <path d=\"M18.56 5.44l.94 2.06.94-2.06 2.06-.94-2.06-.94-.94-2.06-.94 2.06-2.06.94zm-11 1L8.5 8.5l.94-2.06 2.06-.94-2.06-.94L8.5 2.5l-.94 2.06-2.06.94zm10 10l.94 2.06.94-2.06 2.06-.94-2.06-.94-.94-2.06-.94 2.06-2.06.94z\"/><path d=\"M17.41 7.96l-1.37-1.37c-.4-.4-.92-.59-1.43-.59-.52 0-1.04.2-1.43.59L10.3 9.45l-7.72 7.72c-.78.78-.78 2.05 0 2.83L4 21.41c.39.39.9.59 1.41.59.51 0 1.02-.2 1.41-.59l7.78-7.78 2.81-2.81c.8-.78.8-2.07 0-2.86zM5.41 20L4 18.59l7.72-7.72 1.47 1.35L5.41 20z\"/>\n",
              "  </svg>\n",
              "      </button>\n",
              "      \n",
              "  <style>\n",
              "    .colab-df-container {\n",
              "      display:flex;\n",
              "      flex-wrap:wrap;\n",
              "      gap: 12px;\n",
              "    }\n",
              "\n",
              "    .colab-df-convert {\n",
              "      background-color: #E8F0FE;\n",
              "      border: none;\n",
              "      border-radius: 50%;\n",
              "      cursor: pointer;\n",
              "      display: none;\n",
              "      fill: #1967D2;\n",
              "      height: 32px;\n",
              "      padding: 0 0 0 0;\n",
              "      width: 32px;\n",
              "    }\n",
              "\n",
              "    .colab-df-convert:hover {\n",
              "      background-color: #E2EBFA;\n",
              "      box-shadow: 0px 1px 2px rgba(60, 64, 67, 0.3), 0px 1px 3px 1px rgba(60, 64, 67, 0.15);\n",
              "      fill: #174EA6;\n",
              "    }\n",
              "\n",
              "    [theme=dark] .colab-df-convert {\n",
              "      background-color: #3B4455;\n",
              "      fill: #D2E3FC;\n",
              "    }\n",
              "\n",
              "    [theme=dark] .colab-df-convert:hover {\n",
              "      background-color: #434B5C;\n",
              "      box-shadow: 0px 1px 3px 1px rgba(0, 0, 0, 0.15);\n",
              "      filter: drop-shadow(0px 1px 2px rgba(0, 0, 0, 0.3));\n",
              "      fill: #FFFFFF;\n",
              "    }\n",
              "  </style>\n",
              "\n",
              "      <script>\n",
              "        const buttonEl =\n",
              "          document.querySelector('#df-e7e342cb-193f-4e58-a013-af0b9ffea7f8 button.colab-df-convert');\n",
              "        buttonEl.style.display =\n",
              "          google.colab.kernel.accessAllowed ? 'block' : 'none';\n",
              "\n",
              "        async function convertToInteractive(key) {\n",
              "          const element = document.querySelector('#df-e7e342cb-193f-4e58-a013-af0b9ffea7f8');\n",
              "          const dataTable =\n",
              "            await google.colab.kernel.invokeFunction('convertToInteractive',\n",
              "                                                     [key], {});\n",
              "          if (!dataTable) return;\n",
              "\n",
              "          const docLinkHtml = 'Like what you see? Visit the ' +\n",
              "            '<a target=\"_blank\" href=https://colab.research.google.com/notebooks/data_table.ipynb>data table notebook</a>'\n",
              "            + ' to learn more about interactive tables.';\n",
              "          element.innerHTML = '';\n",
              "          dataTable['output_type'] = 'display_data';\n",
              "          await google.colab.output.renderOutput(dataTable, element);\n",
              "          const docLink = document.createElement('div');\n",
              "          docLink.innerHTML = docLinkHtml;\n",
              "          element.appendChild(docLink);\n",
              "        }\n",
              "      </script>\n",
              "    </div>\n",
              "  </div>\n",
              "  "
            ]
          },
          "metadata": {},
          "execution_count": 20
        }
      ],
      "source": [
        "import pandas as pd\n",
        "import matplotlib.pyplot as plt\n",
        "data=pd.read_csv(\"linear regression data.txt\")\n",
        "data.head()"
      ]
    },
    {
      "cell_type": "markdown",
      "source": [
        "# New Section"
      ],
      "metadata": {
        "id": "gNUmZn-D07_q"
      }
    },
    {
      "cell_type": "code",
      "source": [
        "df=data.rename(columns={\"6.1101\":\"X\",\"17.592\":\"Y\"})\n",
        "df.head()"
      ],
      "metadata": {
        "colab": {
          "base_uri": "https://localhost:8080/",
          "height": 206
        },
        "id": "nszEx_J1Wqv2",
        "outputId": "bf779e73-2359-42eb-e4c2-3fc34ac3e260"
      },
      "execution_count": null,
      "outputs": [
        {
          "output_type": "execute_result",
          "data": {
            "text/plain": [
              "        X        Y\n",
              "0  5.5277   9.1302\n",
              "1  8.5186  13.6620\n",
              "2  7.0032  11.8540\n",
              "3  5.8598   6.8233\n",
              "4  8.3829  11.8860"
            ],
            "text/html": [
              "\n",
              "  <div id=\"df-679b9598-9d13-4649-8945-046980513bad\">\n",
              "    <div class=\"colab-df-container\">\n",
              "      <div>\n",
              "<style scoped>\n",
              "    .dataframe tbody tr th:only-of-type {\n",
              "        vertical-align: middle;\n",
              "    }\n",
              "\n",
              "    .dataframe tbody tr th {\n",
              "        vertical-align: top;\n",
              "    }\n",
              "\n",
              "    .dataframe thead th {\n",
              "        text-align: right;\n",
              "    }\n",
              "</style>\n",
              "<table border=\"1\" class=\"dataframe\">\n",
              "  <thead>\n",
              "    <tr style=\"text-align: right;\">\n",
              "      <th></th>\n",
              "      <th>X</th>\n",
              "      <th>Y</th>\n",
              "    </tr>\n",
              "  </thead>\n",
              "  <tbody>\n",
              "    <tr>\n",
              "      <th>0</th>\n",
              "      <td>5.5277</td>\n",
              "      <td>9.1302</td>\n",
              "    </tr>\n",
              "    <tr>\n",
              "      <th>1</th>\n",
              "      <td>8.5186</td>\n",
              "      <td>13.6620</td>\n",
              "    </tr>\n",
              "    <tr>\n",
              "      <th>2</th>\n",
              "      <td>7.0032</td>\n",
              "      <td>11.8540</td>\n",
              "    </tr>\n",
              "    <tr>\n",
              "      <th>3</th>\n",
              "      <td>5.8598</td>\n",
              "      <td>6.8233</td>\n",
              "    </tr>\n",
              "    <tr>\n",
              "      <th>4</th>\n",
              "      <td>8.3829</td>\n",
              "      <td>11.8860</td>\n",
              "    </tr>\n",
              "  </tbody>\n",
              "</table>\n",
              "</div>\n",
              "      <button class=\"colab-df-convert\" onclick=\"convertToInteractive('df-679b9598-9d13-4649-8945-046980513bad')\"\n",
              "              title=\"Convert this dataframe to an interactive table.\"\n",
              "              style=\"display:none;\">\n",
              "        \n",
              "  <svg xmlns=\"http://www.w3.org/2000/svg\" height=\"24px\"viewBox=\"0 0 24 24\"\n",
              "       width=\"24px\">\n",
              "    <path d=\"M0 0h24v24H0V0z\" fill=\"none\"/>\n",
              "    <path d=\"M18.56 5.44l.94 2.06.94-2.06 2.06-.94-2.06-.94-.94-2.06-.94 2.06-2.06.94zm-11 1L8.5 8.5l.94-2.06 2.06-.94-2.06-.94L8.5 2.5l-.94 2.06-2.06.94zm10 10l.94 2.06.94-2.06 2.06-.94-2.06-.94-.94-2.06-.94 2.06-2.06.94z\"/><path d=\"M17.41 7.96l-1.37-1.37c-.4-.4-.92-.59-1.43-.59-.52 0-1.04.2-1.43.59L10.3 9.45l-7.72 7.72c-.78.78-.78 2.05 0 2.83L4 21.41c.39.39.9.59 1.41.59.51 0 1.02-.2 1.41-.59l7.78-7.78 2.81-2.81c.8-.78.8-2.07 0-2.86zM5.41 20L4 18.59l7.72-7.72 1.47 1.35L5.41 20z\"/>\n",
              "  </svg>\n",
              "      </button>\n",
              "      \n",
              "  <style>\n",
              "    .colab-df-container {\n",
              "      display:flex;\n",
              "      flex-wrap:wrap;\n",
              "      gap: 12px;\n",
              "    }\n",
              "\n",
              "    .colab-df-convert {\n",
              "      background-color: #E8F0FE;\n",
              "      border: none;\n",
              "      border-radius: 50%;\n",
              "      cursor: pointer;\n",
              "      display: none;\n",
              "      fill: #1967D2;\n",
              "      height: 32px;\n",
              "      padding: 0 0 0 0;\n",
              "      width: 32px;\n",
              "    }\n",
              "\n",
              "    .colab-df-convert:hover {\n",
              "      background-color: #E2EBFA;\n",
              "      box-shadow: 0px 1px 2px rgba(60, 64, 67, 0.3), 0px 1px 3px 1px rgba(60, 64, 67, 0.15);\n",
              "      fill: #174EA6;\n",
              "    }\n",
              "\n",
              "    [theme=dark] .colab-df-convert {\n",
              "      background-color: #3B4455;\n",
              "      fill: #D2E3FC;\n",
              "    }\n",
              "\n",
              "    [theme=dark] .colab-df-convert:hover {\n",
              "      background-color: #434B5C;\n",
              "      box-shadow: 0px 1px 3px 1px rgba(0, 0, 0, 0.15);\n",
              "      filter: drop-shadow(0px 1px 2px rgba(0, 0, 0, 0.3));\n",
              "      fill: #FFFFFF;\n",
              "    }\n",
              "  </style>\n",
              "\n",
              "      <script>\n",
              "        const buttonEl =\n",
              "          document.querySelector('#df-679b9598-9d13-4649-8945-046980513bad button.colab-df-convert');\n",
              "        buttonEl.style.display =\n",
              "          google.colab.kernel.accessAllowed ? 'block' : 'none';\n",
              "\n",
              "        async function convertToInteractive(key) {\n",
              "          const element = document.querySelector('#df-679b9598-9d13-4649-8945-046980513bad');\n",
              "          const dataTable =\n",
              "            await google.colab.kernel.invokeFunction('convertToInteractive',\n",
              "                                                     [key], {});\n",
              "          if (!dataTable) return;\n",
              "\n",
              "          const docLinkHtml = 'Like what you see? Visit the ' +\n",
              "            '<a target=\"_blank\" href=https://colab.research.google.com/notebooks/data_table.ipynb>data table notebook</a>'\n",
              "            + ' to learn more about interactive tables.';\n",
              "          element.innerHTML = '';\n",
              "          dataTable['output_type'] = 'display_data';\n",
              "          await google.colab.output.renderOutput(dataTable, element);\n",
              "          const docLink = document.createElement('div');\n",
              "          docLink.innerHTML = docLinkHtml;\n",
              "          element.appendChild(docLink);\n",
              "        }\n",
              "      </script>\n",
              "    </div>\n",
              "  </div>\n",
              "  "
            ]
          },
          "metadata": {},
          "execution_count": 21
        }
      ]
    },
    {
      "cell_type": "code",
      "source": [
        "dfX=df[\"X\"]\n",
        "dfY=df[\"Y\"]\n",
        "dfY.head()"
      ],
      "metadata": {
        "colab": {
          "base_uri": "https://localhost:8080/"
        },
        "id": "_xwehNDnW4SM",
        "outputId": "d5a85ac3-d7bb-40a6-a94c-64e8f24c01cb"
      },
      "execution_count": null,
      "outputs": [
        {
          "output_type": "execute_result",
          "data": {
            "text/plain": [
              "0     9.1302\n",
              "1    13.6620\n",
              "2    11.8540\n",
              "3     6.8233\n",
              "4    11.8860\n",
              "Name: Y, dtype: float64"
            ]
          },
          "metadata": {},
          "execution_count": 22
        }
      ]
    },
    {
      "cell_type": "code",
      "source": [
        "plt.scatter(dfX,dfY)\n",
        "plt.show()"
      ],
      "metadata": {
        "colab": {
          "base_uri": "https://localhost:8080/",
          "height": 266
        },
        "id": "TR2IL6EKXBVk",
        "outputId": "8cb665ce-985d-4588-e238-04cbfc3b73e7"
      },
      "execution_count": null,
      "outputs": [
        {
          "output_type": "display_data",
          "data": {
            "text/plain": [
              "<Figure size 432x288 with 1 Axes>"
            ],
            "image/png": "[encoded data removed]"
          },
          "metadata": {
            "needs_background": "light"
          }
        }
      ]
    },
    {
      "cell_type": "code",
      "source": [
        "m=dfX.shape[0]\n",
        "x0=0\n",
        "x1=0\n",
        "alpha=0.06"
      ],
      "metadata": {
        "id": "qQ-vD_mqXFOO"
      },
      "execution_count": null,
      "outputs": []
    },
    {
      "cell_type": "code",
      "source": [
        "m"
      ],
      "metadata": {
        "colab": {
          "base_uri": "https://localhost:8080/"
        },
        "id": "fuHXglpZgmmR",
        "outputId": "b7ba3eae-19e6-4580-80ed-07fb4be838d4"
      },
      "execution_count": null,
      "outputs": [
        {
          "output_type": "execute_result",
          "data": {
            "text/plain": [
              "96"
            ]
          },
          "metadata": {},
          "execution_count": 25
        }
      ]
    },
    {
      "cell_type": "code",
      "source": [
        "import numpy as np"
      ],
      "metadata": {
        "id": "0SgrlSJFcORb"
      },
      "execution_count": null,
      "outputs": []
    },
    {
      "cell_type": "code",
      "source": [
        "def costfunc(x0,x1):\n",
        "  cost=0\n",
        "  for i in range(0,m-1):\n",
        "    sum=((x0+x1*dfX[i]-dfY[i])*(x0+x1*dfX[i]-dfY[i]))/(2*m)\n",
        "    cost+=sum\n",
        "  return cost\n"
      ],
      "metadata": {
        "id": "xopmvRqRbz6l"
      },
      "execution_count": null,
      "outputs": []
    },
    {
      "cell_type": "code",
      "source": [
        "def deltheta0():\n",
        "  dt0=0\n",
        "  for i in range(0,m-1):\n",
        "    sum0=(x0+x1*dfX[i]-dfY[i])/m\n",
        "    dt0+=sum0\n",
        "  return dt0\n",
        "def deltheta1():\n",
        "  dt1=0\n",
        "  for j in range(0,m-1):\n",
        "    sum1=((x0+x1*dfX[j]-dfY[j])*x1)/m\n",
        "    dt1+=sum1\n",
        "  return dt1\n"
      ],
      "metadata": {
        "id": "9wRbj4OMj47C"
      },
      "execution_count": null,
      "outputs": []
    },
    {
      "cell_type": "code",
      "source": [
        "costar=[]\n",
        "itrar=[]\n",
        "x1ar=[]\n",
        "x0ar=[]\n",
        "for k in range(1000):\n",
        "  x0=x0-alpha*(deltheta0())\n",
        "  x1=x0-alpha*(deltheta1())\n",
        "  costar.append(costfunc(x0,x1))\n",
        "  itrar.append(k)\n",
        "  x0ar.append(x0)\n",
        "  x1ar.append(x1)\n",
        "plt.scatter(itrar,costar)\n",
        "plt.show()"
      ],
      "metadata": {
        "colab": {
          "base_uri": "https://localhost:8080/",
          "height": 265
        },
        "id": "SzNlVnXQYvub",
        "outputId": "c7ab8d4b-998d-473d-9e44-c920f9c23dba"
      },
      "execution_count": null,
      "outputs": [
        {
          "output_type": "display_data",
          "data": {
            "text/plain": [
              "<Figure size 432x288 with 1 Axes>"
            ],
            "image/png": "[encoded data removed]"
          },
          "metadata": {
            "needs_background": "light"
          }
        }
      ]
    },
    {
      "cell_type": "code",
      "source": [
        "print(costar)"
      ],
      "metadata": {
        "colab": {
          "base_uri": "https://localhost:8080/"
        },
        "id": "6MmikwiWhEdN",
        "outputId": "84bc63bb-e1e8-46b4-81f8-00019e9ce4aa"
      },
      "execution_count": null,
      "outputs": [
        {
          "output_type": "stream",
          "name": "stdout",
          "text": [
            "[12.414722931798124, 6.995976324164894, 6.668483806752488, 6.294022417197806, 6.17645499286218, 6.0851747876960065, 6.043602082541345, 6.014438254150994, 5.99881867078853, 5.988382172508188, 5.98234456596756, 5.97842185154623, 5.976064665406656, 5.974558209230241, 5.9736354654879795, 5.973051359827721, 5.972690047932779, 5.972462576002735, 5.972321147938784, 5.972232380390737, 5.97217704214386, 5.9721423678556045, 5.9721207210528044, 5.972107170083293, 5.972098703980992, 5.972093406882526, 5.972090096137793, 5.972088025237864, 5.972086730624184, 5.972085920954751, 5.97208541473516, 5.972085098164429, 5.97208490022655, 5.972084776449155, 5.972084699053956, 5.97208465065724, 5.972084620395326, 5.972084601472207, 5.972084589639685, 5.972084582240725, 5.972084577614175, 5.972084574721169, 5.972084572912178, 5.9720845717810045, 5.972084571073686, 5.972084570631394, 5.972084570354831, 5.972084570181894, 5.972084570073763, 5.972084570006137, 5.972084569963853, 5.972084569937417, 5.9720845699208835, 5.972084569910547, 5.9720845699040845, 5.97208456990004, 5.972084569897513, 5.972084569895937, 5.972084569894945, 5.972084569894327, 5.972084569893939, 5.972084569893701, 5.97208456989355, 5.9720845698934575, 5.9720845698933935, 5.972084569893361, 5.972084569893334, 5.972084569893323, 5.972084569893311, 5.972084569893304, 5.9720845698933, 5.972084569893298, 5.9720845698933, 5.972084569893298, 5.972084569893296, 5.972084569893298, 5.972084569893298, 5.972084569893296, 5.972084569893296, 5.972084569893296, 5.972084569893296, 5.972084569893296, 5.972084569893296, 5.972084569893296, 5.972084569893296, 5.972084569893296, 5.972084569893296, 5.972084569893296, 5.972084569893296, 5.972084569893296, 5.972084569893296, 5.972084569893296, 5.972084569893296, 5.972084569893296, 5.972084569893296, 5.972084569893296, 5.972084569893296, 5.972084569893296, 5.972084569893296, 5.972084569893296, 5.972084569893296, 5.972084569893296, 5.972084569893296, 5.972084569893296, 5.972084569893296, 5.972084569893296, 5.972084569893296, 5.972084569893296, 5.972084569893296, 5.972084569893296, 5.972084569893296, 5.972084569893296, 5.972084569893296, 5.972084569893296, 5.972084569893296, 5.972084569893296, 5.972084569893296, 5.972084569893296, 5.972084569893296, 5.972084569893296, 5.972084569893296, 5.972084569893296, 5.972084569893296, 5.972084569893296, 5.972084569893296, 5.972084569893296, 5.972084569893296, 5.972084569893296, 5.972084569893296, 5.972084569893296, 5.972084569893296, 5.972084569893296, 5.972084569893296, 5.972084569893296, 5.972084569893296, 5.972084569893296, 5.972084569893296, 5.972084569893296, 5.972084569893296, 5.972084569893296, 5.972084569893296, 5.972084569893296, 5.972084569893296, 5.972084569893296, 5.972084569893296, 5.972084569893296, 5.972084569893296, 5.972084569893296, 5.972084569893296, 5.972084569893296, 5.972084569893296, 5.972084569893296, 5.972084569893296, 5.972084569893296, 5.972084569893296, 5.972084569893296, 5.972084569893296, 5.972084569893296, 5.972084569893296, 5.972084569893296, 5.972084569893296, 5.972084569893296, 5.972084569893296, 5.972084569893296, 5.972084569893296, 5.972084569893296, 5.972084569893296, 5.972084569893296, 5.972084569893296, 5.972084569893296, 5.972084569893296, 5.972084569893296, 5.972084569893296, 5.972084569893296, 5.972084569893296, 5.972084569893296, 5.972084569893296, 5.972084569893296, 5.972084569893296, 5.972084569893296, 5.972084569893296, 5.972084569893296, 5.972084569893296, 5.972084569893296, 5.972084569893296, 5.972084569893296, 5.972084569893296, 5.972084569893296, 5.972084569893296, 5.972084569893296, 5.972084569893296, 5.972084569893296, 5.972084569893296, 5.972084569893296, 5.972084569893296, 5.972084569893296, 5.972084569893296, 5.972084569893296, 5.972084569893296, 5.972084569893296, 5.972084569893296, 5.972084569893296, 5.972084569893296, 5.972084569893296, 5.972084569893296, 5.972084569893296, 5.972084569893296, 5.972084569893296, 5.972084569893296, 5.972084569893296, 5.972084569893296, 5.972084569893296, 5.972084569893296, 5.972084569893296, 5.972084569893296, 5.972084569893296, 5.972084569893296, 5.972084569893296, 5.972084569893296, 5.972084569893296, 5.972084569893296, 5.972084569893296, 5.972084569893296, 5.972084569893296, 5.972084569893296, 5.972084569893296, 5.972084569893296, 5.972084569893296, 5.972084569893296, 5.972084569893296, 5.972084569893296, 5.972084569893296, 5.972084569893296, 5.972084569893296, 5.972084569893296, 5.972084569893296, 5.972084569893296, 5.972084569893296, 5.972084569893296, 5.972084569893296, 5.972084569893296, 5.972084569893296, 5.972084569893296, 5.972084569893296, 5.972084569893296, 5.972084569893296, 5.972084569893296, 5.972084569893296, 5.972084569893296, 5.972084569893296, 5.972084569893296, 5.972084569893296, 5.972084569893296, 5.972084569893296, 5.972084569893296, 5.972084569893296, 5.972084569893296, 5.972084569893296, 5.972084569893296, 5.972084569893296, 5.972084569893296, 5.972084569893296, 5.972084569893296, 5.972084569893296, 5.972084569893296, 5.972084569893296, 5.972084569893296, 5.972084569893296, 5.972084569893296, 5.972084569893296, 5.972084569893296, 5.972084569893296, 5.972084569893296, 5.972084569893296, 5.972084569893296, 5.972084569893296, 5.972084569893296, 5.972084569893296, 5.972084569893296, 5.972084569893296, 5.972084569893296, 5.972084569893296, 5.972084569893296, 5.972084569893296, 5.972084569893296, 5.972084569893296, 5.972084569893296, 5.972084569893296, 5.972084569893296, 5.972084569893296, 5.972084569893296, 5.972084569893296, 5.972084569893296, 5.972084569893296, 5.972084569893296, 5.972084569893296, 5.972084569893296, 5.972084569893296, 5.972084569893296, 5.972084569893296, 5.972084569893296, 5.972084569893296, 5.972084569893296, 5.972084569893296, 5.972084569893296, 5.972084569893296, 5.972084569893296, 5.972084569893296, 5.972084569893296, 5.972084569893296, 5.972084569893296, 5.972084569893296, 5.972084569893296, 5.972084569893296, 5.972084569893296, 5.972084569893296, 5.972084569893296, 5.972084569893296, 5.972084569893296, 5.972084569893296, 5.972084569893296, 5.972084569893296, 5.972084569893296, 5.972084569893296, 5.972084569893296, 5.972084569893296, 5.972084569893296, 5.972084569893296, 5.972084569893296, 5.972084569893296, 5.972084569893296, 5.972084569893296, 5.972084569893296, 5.972084569893296, 5.972084569893296, 5.972084569893296, 5.972084569893296, 5.972084569893296, 5.972084569893296, 5.972084569893296, 5.972084569893296, 5.972084569893296, 5.972084569893296, 5.972084569893296, 5.972084569893296, 5.972084569893296, 5.972084569893296, 5.972084569893296, 5.972084569893296, 5.972084569893296, 5.972084569893296, 5.972084569893296, 5.972084569893296, 5.972084569893296, 5.972084569893296, 5.972084569893296, 5.972084569893296, 5.972084569893296, 5.972084569893296, 5.972084569893296, 5.972084569893296, 5.972084569893296, 5.972084569893296, 5.972084569893296, 5.972084569893296, 5.972084569893296, 5.972084569893296, 5.972084569893296, 5.972084569893296, 5.972084569893296, 5.972084569893296, 5.972084569893296, 5.972084569893296, 5.972084569893296, 5.972084569893296, 5.972084569893296, 5.972084569893296, 5.972084569893296, 5.972084569893296, 5.972084569893296, 5.972084569893296, 5.972084569893296, 5.972084569893296, 5.972084569893296, 5.972084569893296, 5.972084569893296, 5.972084569893296, 5.972084569893296, 5.972084569893296, 5.972084569893296, 5.972084569893296, 5.972084569893296, 5.972084569893296, 5.972084569893296, 5.972084569893296, 5.972084569893296, 5.972084569893296, 5.972084569893296, 5.972084569893296, 5.972084569893296, 5.972084569893296, 5.972084569893296, 5.972084569893296, 5.972084569893296, 5.972084569893296, 5.972084569893296, 5.972084569893296, 5.972084569893296, 5.972084569893296, 5.972084569893296, 5.972084569893296, 5.972084569893296, 5.972084569893296, 5.972084569893296, 5.972084569893296, 5.972084569893296, 5.972084569893296, 5.972084569893296, 5.972084569893296, 5.972084569893296, 5.972084569893296, 5.972084569893296, 5.972084569893296, 5.972084569893296, 5.972084569893296, 5.972084569893296, 5.972084569893296, 5.972084569893296, 5.972084569893296, 5.972084569893296, 5.972084569893296, 5.972084569893296, 5.972084569893296, 5.972084569893296, 5.972084569893296, 5.972084569893296, 5.972084569893296, 5.972084569893296, 5.972084569893296, 5.972084569893296, 5.972084569893296, 5.972084569893296, 5.972084569893296, 5.972084569893296, 5.972084569893296, 5.972084569893296, 5.972084569893296, 5.972084569893296, 5.972084569893296, 5.972084569893296, 5.972084569893296, 5.972084569893296, 5.972084569893296, 5.972084569893296, 5.972084569893296, 5.972084569893296, 5.972084569893296, 5.972084569893296, 5.972084569893296, 5.972084569893296, 5.972084569893296, 5.972084569893296, 5.972084569893296, 5.972084569893296, 5.972084569893296, 5.972084569893296, 5.972084569893296, 5.972084569893296, 5.972084569893296, 5.972084569893296, 5.972084569893296, 5.972084569893296, 5.972084569893296, 5.972084569893296, 5.972084569893296, 5.972084569893296, 5.972084569893296, 5.972084569893296, 5.972084569893296, 5.972084569893296, 5.972084569893296, 5.972084569893296, 5.972084569893296, 5.972084569893296, 5.972084569893296, 5.972084569893296, 5.972084569893296, 5.972084569893296, 5.972084569893296, 5.972084569893296, 5.972084569893296, 5.972084569893296, 5.972084569893296, 5.972084569893296, 5.972084569893296, 5.972084569893296, 5.972084569893296, 5.972084569893296, 5.972084569893296, 5.972084569893296, 5.972084569893296, 5.972084569893296, 5.972084569893296, 5.972084569893296, 5.972084569893296, 5.972084569893296, 5.972084569893296, 5.972084569893296, 5.972084569893296, 5.972084569893296, 5.972084569893296, 5.972084569893296, 5.972084569893296, 5.972084569893296, 5.972084569893296, 5.972084569893296, 5.972084569893296, 5.972084569893296, 5.972084569893296, 5.972084569893296, 5.972084569893296, 5.972084569893296, 5.972084569893296, 5.972084569893296, 5.972084569893296, 5.972084569893296, 5.972084569893296, 5.972084569893296, 5.972084569893296, 5.972084569893296, 5.972084569893296, 5.972084569893296, 5.972084569893296, 5.972084569893296, 5.972084569893296, 5.972084569893296, 5.972084569893296, 5.972084569893296, 5.972084569893296, 5.972084569893296, 5.972084569893296, 5.972084569893296, 5.972084569893296, 5.972084569893296, 5.972084569893296, 5.972084569893296, 5.972084569893296, 5.972084569893296, 5.972084569893296, 5.972084569893296, 5.972084569893296, 5.972084569893296, 5.972084569893296, 5.972084569893296, 5.972084569893296, 5.972084569893296, 5.972084569893296, 5.972084569893296, 5.972084569893296, 5.972084569893296, 5.972084569893296, 5.972084569893296, 5.972084569893296, 5.972084569893296, 5.972084569893296, 5.972084569893296, 5.972084569893296, 5.972084569893296, 5.972084569893296, 5.972084569893296, 5.972084569893296, 5.972084569893296, 5.972084569893296, 5.972084569893296, 5.972084569893296, 5.972084569893296, 5.972084569893296, 5.972084569893296, 5.972084569893296, 5.972084569893296, 5.972084569893296, 5.972084569893296, 5.972084569893296, 5.972084569893296, 5.972084569893296, 5.972084569893296, 5.972084569893296, 5.972084569893296, 5.972084569893296, 5.972084569893296, 5.972084569893296, 5.972084569893296, 5.972084569893296, 5.972084569893296, 5.972084569893296, 5.972084569893296, 5.972084569893296, 5.972084569893296, 5.972084569893296, 5.972084569893296, 5.972084569893296, 5.972084569893296, 5.972084569893296, 5.972084569893296, 5.972084569893296, 5.972084569893296, 5.972084569893296, 5.972084569893296, 5.972084569893296, 5.972084569893296, 5.972084569893296, 5.972084569893296, 5.972084569893296, 5.972084569893296, 5.972084569893296, 5.972084569893296, 5.972084569893296, 5.972084569893296, 5.972084569893296, 5.972084569893296, 5.972084569893296, 5.972084569893296, 5.972084569893296, 5.972084569893296, 5.972084569893296, 5.972084569893296, 5.972084569893296, 5.972084569893296, 5.972084569893296, 5.972084569893296, 5.972084569893296, 5.972084569893296, 5.972084569893296, 5.972084569893296, 5.972084569893296, 5.972084569893296, 5.972084569893296, 5.972084569893296, 5.972084569893296, 5.972084569893296, 5.972084569893296, 5.972084569893296, 5.972084569893296, 5.972084569893296, 5.972084569893296, 5.972084569893296, 5.972084569893296, 5.972084569893296, 5.972084569893296, 5.972084569893296, 5.972084569893296, 5.972084569893296, 5.972084569893296, 5.972084569893296, 5.972084569893296, 5.972084569893296, 5.972084569893296, 5.972084569893296, 5.972084569893296, 5.972084569893296, 5.972084569893296, 5.972084569893296, 5.972084569893296, 5.972084569893296, 5.972084569893296, 5.972084569893296, 5.972084569893296, 5.972084569893296, 5.972084569893296, 5.972084569893296, 5.972084569893296, 5.972084569893296, 5.972084569893296, 5.972084569893296, 5.972084569893296, 5.972084569893296, 5.972084569893296, 5.972084569893296, 5.972084569893296, 5.972084569893296, 5.972084569893296, 5.972084569893296, 5.972084569893296, 5.972084569893296, 5.972084569893296, 5.972084569893296, 5.972084569893296, 5.972084569893296, 5.972084569893296, 5.972084569893296, 5.972084569893296, 5.972084569893296, 5.972084569893296, 5.972084569893296, 5.972084569893296, 5.972084569893296, 5.972084569893296, 5.972084569893296, 5.972084569893296, 5.972084569893296, 5.972084569893296, 5.972084569893296, 5.972084569893296, 5.972084569893296, 5.972084569893296, 5.972084569893296, 5.972084569893296, 5.972084569893296, 5.972084569893296, 5.972084569893296, 5.972084569893296, 5.972084569893296, 5.972084569893296, 5.972084569893296, 5.972084569893296, 5.972084569893296, 5.972084569893296, 5.972084569893296, 5.972084569893296, 5.972084569893296, 5.972084569893296, 5.972084569893296, 5.972084569893296, 5.972084569893296, 5.972084569893296, 5.972084569893296, 5.972084569893296, 5.972084569893296, 5.972084569893296, 5.972084569893296, 5.972084569893296, 5.972084569893296, 5.972084569893296, 5.972084569893296, 5.972084569893296, 5.972084569893296, 5.972084569893296, 5.972084569893296, 5.972084569893296, 5.972084569893296, 5.972084569893296, 5.972084569893296, 5.972084569893296, 5.972084569893296, 5.972084569893296, 5.972084569893296, 5.972084569893296, 5.972084569893296, 5.972084569893296, 5.972084569893296, 5.972084569893296, 5.972084569893296, 5.972084569893296, 5.972084569893296, 5.972084569893296, 5.972084569893296, 5.972084569893296, 5.972084569893296, 5.972084569893296, 5.972084569893296, 5.972084569893296, 5.972084569893296, 5.972084569893296, 5.972084569893296, 5.972084569893296, 5.972084569893296, 5.972084569893296, 5.972084569893296, 5.972084569893296, 5.972084569893296, 5.972084569893296, 5.972084569893296, 5.972084569893296, 5.972084569893296, 5.972084569893296, 5.972084569893296, 5.972084569893296, 5.972084569893296, 5.972084569893296, 5.972084569893296, 5.972084569893296, 5.972084569893296, 5.972084569893296, 5.972084569893296, 5.972084569893296, 5.972084569893296, 5.972084569893296, 5.972084569893296, 5.972084569893296, 5.972084569893296, 5.972084569893296, 5.972084569893296, 5.972084569893296, 5.972084569893296, 5.972084569893296, 5.972084569893296, 5.972084569893296, 5.972084569893296, 5.972084569893296, 5.972084569893296, 5.972084569893296, 5.972084569893296, 5.972084569893296, 5.972084569893296, 5.972084569893296, 5.972084569893296, 5.972084569893296, 5.972084569893296, 5.972084569893296, 5.972084569893296, 5.972084569893296, 5.972084569893296, 5.972084569893296, 5.972084569893296, 5.972084569893296, 5.972084569893296, 5.972084569893296, 5.972084569893296, 5.972084569893296, 5.972084569893296, 5.972084569893296, 5.972084569893296, 5.972084569893296, 5.972084569893296, 5.972084569893296, 5.972084569893296, 5.972084569893296, 5.972084569893296, 5.972084569893296, 5.972084569893296, 5.972084569893296, 5.972084569893296, 5.972084569893296, 5.972084569893296, 5.972084569893296, 5.972084569893296, 5.972084569893296, 5.972084569893296, 5.972084569893296, 5.972084569893296, 5.972084569893296, 5.972084569893296, 5.972084569893296, 5.972084569893296, 5.972084569893296, 5.972084569893296, 5.972084569893296, 5.972084569893296, 5.972084569893296, 5.972084569893296, 5.972084569893296, 5.972084569893296, 5.972084569893296, 5.972084569893296, 5.972084569893296, 5.972084569893296, 5.972084569893296, 5.972084569893296, 5.972084569893296, 5.972084569893296, 5.972084569893296, 5.972084569893296, 5.972084569893296, 5.972084569893296, 5.972084569893296, 5.972084569893296, 5.972084569893296, 5.972084569893296, 5.972084569893296, 5.972084569893296, 5.972084569893296, 5.972084569893296, 5.972084569893296, 5.972084569893296, 5.972084569893296, 5.972084569893296, 5.972084569893296, 5.972084569893296, 5.972084569893296, 5.972084569893296, 5.972084569893296, 5.972084569893296, 5.972084569893296, 5.972084569893296, 5.972084569893296, 5.972084569893296, 5.972084569893296, 5.972084569893296, 5.972084569893296, 5.972084569893296, 5.972084569893296, 5.972084569893296, 5.972084569893296, 5.972084569893296, 5.972084569893296, 5.972084569893296, 5.972084569893296, 5.972084569893296, 5.972084569893296, 5.972084569893296, 5.972084569893296, 5.972084569893296, 5.972084569893296, 5.972084569893296, 5.972084569893296, 5.972084569893296, 5.972084569893296, 5.972084569893296, 5.972084569893296, 5.972084569893296, 5.972084569893296, 5.972084569893296, 5.972084569893296, 5.972084569893296, 5.972084569893296, 5.972084569893296, 5.972084569893296, 5.972084569893296, 5.972084569893296, 5.972084569893296, 5.972084569893296, 5.972084569893296, 5.972084569893296, 5.972084569893296, 5.972084569893296, 5.972084569893296, 5.972084569893296, 5.972084569893296, 5.972084569893296, 5.972084569893296, 5.972084569893296, 5.972084569893296, 5.972084569893296, 5.972084569893296, 5.972084569893296, 5.972084569893296, 5.972084569893296, 5.972084569893296, 5.972084569893296, 5.972084569893296, 5.972084569893296, 5.972084569893296, 5.972084569893296, 5.972084569893296, 5.972084569893296, 5.972084569893296, 5.972084569893296, 5.972084569893296, 5.972084569893296, 5.972084569893296, 5.972084569893296, 5.972084569893296, 5.972084569893296, 5.972084569893296, 5.972084569893296, 5.972084569893296, 5.972084569893296, 5.972084569893296, 5.972084569893296, 5.972084569893296, 5.972084569893296, 5.972084569893296, 5.972084569893296, 5.972084569893296, 5.972084569893296, 5.972084569893296, 5.972084569893296, 5.972084569893296, 5.972084569893296, 5.972084569893296, 5.972084569893296, 5.972084569893296, 5.972084569893296, 5.972084569893296, 5.972084569893296, 5.972084569893296, 5.972084569893296, 5.972084569893296, 5.972084569893296, 5.972084569893296, 5.972084569893296, 5.972084569893296, 5.972084569893296, 5.972084569893296, 5.972084569893296, 5.972084569893296, 5.972084569893296, 5.972084569893296, 5.972084569893296, 5.972084569893296, 5.972084569893296, 5.972084569893296, 5.972084569893296, 5.972084569893296, 5.972084569893296, 5.972084569893296, 5.972084569893296, 5.972084569893296, 5.972084569893296, 5.972084569893296]\n"
          ]
        }
      ]
    },
    {
      "cell_type": "code",
      "source": [
        "Y=x0ar[999]+x1ar[999]*7.0032\n",
        "Y"
      ],
      "metadata": {
        "colab": {
          "base_uri": "https://localhost:8080/"
        },
        "id": "dUFV9icThKFC",
        "outputId": "ce88ff56-0ee4-4ae3-a6ab-0f40606a49c3"
      },
      "execution_count": null,
      "outputs": [
        {
          "output_type": "execute_result",
          "data": {
            "text/plain": [
              "5.014266583462254"
            ]
          },
          "metadata": {},
          "execution_count": 31
        }
      ]
    }
  ]
}